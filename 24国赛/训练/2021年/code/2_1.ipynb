{
 "cells": [
  {
   "cell_type": "markdown",
   "id": "40a3f1b4-073b-43c4-81a3-fdeae2f9df72",
   "metadata": {},
   "source": [
    "# 使用deap 求解遗传算法"
   ]
  },
  {
   "cell_type": "markdown",
   "id": "075f9dc0-a91e-4ea9-bd39-57f4c3da7130",
   "metadata": {},
   "source": [
    "## 导入所需的库"
   ]
  },
  {
   "cell_type": "code",
   "execution_count": 62,
   "id": "0be160c5-e5c1-439f-b678-031d09d8b17b",
   "metadata": {},
   "outputs": [],
   "source": [
    "from deap import base, creator, tools, algorithms\n",
    "import numpy as np\n",
    "import random\n",
    "import pandas as pd\n",
    "import matplotlib.pyplot as plt\n"
   ]
  },
  {
   "cell_type": "markdown",
   "id": "7f3bcb2a-cc96-4765-89f8-4e7d8adc186a",
   "metadata": {},
   "source": [
    "## 导入数据"
   ]
  },
  {
   "cell_type": "code",
   "execution_count": 63,
   "id": "83fb0f94-5342-4f45-af8b-2e48b83c01ef",
   "metadata": {},
   "outputs": [],
   "source": [
    "Q=pd.read_excel(r\"D:\\adocument\\数学建模\\24年国赛\\训练\\2021年\\code\\data.xlsx\", sheet_name='Q',header=None)\n",
    "t=pd.read_excel(r\"D:\\adocument\\数学建模\\24年国赛\\训练\\2021年\\code\\data.xlsx\",sheet_name='t', header=None)\n",
    "Q=np.array(Q)\n",
    "n_i=50\n",
    "n_j=24\n",
    "n=n_i*n_j"
   ]
  },
  {
   "cell_type": "markdown",
   "id": "cfd84311-0e19-48f9-9e09-6da7880c0fc9",
   "metadata": {},
   "source": [
    "## 创建目标函数"
   ]
  },
  {
   "cell_type": "code",
   "execution_count": 64,
   "id": "84feaafc-23eb-49ab-bdb1-85f892e623cb",
   "metadata": {},
   "outputs": [
    {
     "name": "stderr",
     "output_type": "stream",
     "text": [
      "D:\\soft\\Miniconda\\lib\\site-packages\\deap\\creator.py:185: RuntimeWarning: A class named 'FitnessMin' has already been created and it will be overwritten. Consider deleting previous creation of that class or rename it.\n",
      "  warnings.warn(\"A class named '{0}' has already been created and it \"\n",
      "D:\\soft\\Miniconda\\lib\\site-packages\\deap\\creator.py:185: RuntimeWarning: A class named 'Individual' has already been created and it will be overwritten. Consider deleting previous creation of that class or rename it.\n",
      "  warnings.warn(\"A class named '{0}' has already been created and it \"\n"
     ]
    }
   ],
   "source": [
    "creator.create('FitnessMin', base.Fitness, weights= (-1, ))\n",
    "creator.create('Individual', list, fitness=creator.FitnessMin)\n",
    "toolbox= base.Toolbox()"
   ]
  },
  {
   "cell_type": "markdown",
   "id": "c1d5d356-004f-472f-904a-420a6c44a7ca",
   "metadata": {},
   "source": [
    "### 创建惩罚函数"
   ]
  },
  {
   "cell_type": "code",
   "execution_count": 65,
   "id": "e7b1eef7-b1c6-4dc9-b981-dac3fba0937d",
   "metadata": {},
   "outputs": [],
   "source": [
    "def get_penalty_factor(generation, max_generations):\n",
    "    initial_penalty = 1000\n",
    "    final_penalty = 1e-2\n",
    "    # 线性减少惩罚系数\n",
    "    return initial_penalty - (initial_penalty - final_penalty) * (generation / max_generations)"
   ]
  },
  {
   "cell_type": "markdown",
   "id": "4c1ed9ee-8f37-4b88-8552-36200af3c18d",
   "metadata": {},
   "source": [
    "### 初始化工具箱"
   ]
  },
  {
   "cell_type": "code",
   "execution_count": 66,
   "id": "9f07a27d-fee2-41af-b445-acaff987fc7b",
   "metadata": {},
   "outputs": [],
   "source": [
    "def initIndividual():\n",
    "    x= [random.randint(0,1) for _ in range(n)]\n",
    "    y= [random.uniform(0, Q[i//n_j, i%n_j]) for i in range(n)]\n",
    "    u= [random.randint(0,1) for _ in range(n_i)]\n",
    "    return x+y+u\n",
    "\n",
    "toolbox.register(\"individual\", tools.initIterate,creator.Individual, initIndividual)\n",
    "toolbox.register(\"population\", tools.initRepeat, list, toolbox.individual)\n"
   ]
  },
  {
   "cell_type": "markdown",
   "id": "80bf548c-d42c-4e8b-a8e8-24bb87556107",
   "metadata": {},
   "source": [
    "### 定义目标函数和约束条件"
   ]
  },
  {
   "cell_type": "code",
   "execution_count": 67,
   "id": "3616537c-f998-486a-9c90-57f801c41f3f",
   "metadata": {},
   "outputs": [],
   "source": [
    "def evaluate(individual):\n",
    "    x=np.array(individual[:n]).reshape((n_i,n_j))\n",
    "    y=np.array(individual[n:2*n]).reshape((n_i,n_j))\n",
    "    u=np.array(individual[2*n:]).reshape((n_i,1))\n",
    "    generation = len(logbook.select(\"gen\")) \n",
    "    max_generations = 40\n",
    "    penalty_factor = get_penalty_factor(generation, max_generations)\n",
    "    f=np.sum(u)\n",
    "\n",
    "    constraint1=np.sum(np.maximum(y-Q,0))\n",
    "    # if constraint1 > 0:\n",
    "    #     return float('inf'),\n",
    "    sumx = np.sum(x, axis=1)\n",
    "    constraint2=np.sum(np.abs(u-(sumx>0).astype(int)))\n",
    "\n",
    "    col_sum=np.sum(x*y)\n",
    "    constraint3=np.sum(np.maximum(2.82e4*24-col_sum,0))\n",
    "    # if constraint1 > 0:\n",
    "    #     # 如果违反硬约束，直接返回一个非常大的适应度值\n",
    "    #     return float('inf'),\n",
    "\n",
    "    return f-(constraint1+constraint2+constraint3)*penalty_factor,\n",
    "\n",
    "\n",
    "    \n"
   ]
  },
  {
   "cell_type": "markdown",
   "id": "5a87709a-891b-4cf8-94a6-11de140dbb54",
   "metadata": {},
   "source": [
    "## 注册遗传操作"
   ]
  },
  {
   "cell_type": "code",
   "execution_count": null,
   "id": "4b92d3f9-d365-49dd-b30c-907ae238d726",
   "metadata": {},
   "outputs": [],
   "source": [
    "toolbox.register('evaluate',evaluate)\n",
    "toolbox.register('mate', tools.cxTwoPoint)\n",
    "toolbox.register('mutate', tools.mutPolynomialBounded, low=0, up=1, eta=1.0,indpb=0.2)\n",
    "toolbox.register('select', tools.selTournament, tournsize=3)\n",
    "\n",
    "\n",
    "population= toolbox.population(n=100)\n",
    "# 运行遗传算法并记录数据\n",
    "stats = tools.Statistics(lambda ind: ind.fitness.values)\n",
    "stats.register(\"avg\", np.mean)\n",
    "stats.register(\"min\", np.min)\n",
    "\n",
    "population,logbook =algorithms.eaSimple(population, toolbox, cxpb=0.5, mutpb=0.2,ngen=100, stats=stats, verbose=True)"
   ]
  },
  {
   "cell_type": "code",
   "execution_count": 71,
   "id": "6b9d4c3e-9775-4271-aa8f-0fbd5b724cfb",
   "metadata": {},
   "outputs": [
    {
     "name": "stdout",
     "output_type": "stream",
     "text": [
      "Best u values: [0 1 1 1 1 1 1 1 1 0 0 0 1 1 0 0 1 0 0 1 1 1 0 1 1 1 1 0 0 1 0 1 0 0 1 1 1\n",
      " 0 1 0 0 1 0 1 1 1 1 1 1 0]\n",
      "31\n"
     ]
    },
    {
     "data": {
      "image/png": "[encoded data removed]",
      "text/plain": [
       "<Figure size 640x480 with 1 Axes>"
      ]
     },
     "metadata": {},
     "output_type": "display_data"
    }
   ],
   "source": [
    "# 提取最优个体和适应度\n",
    "best_individual = tools.selBest(population, 1)[0]\n",
    "best_fitness = best_individual.fitness.values[0]\n",
    "best_u=np.array(best_individual[2 * n_i * n_j:]).reshape((n_i,))\n",
    "# print(f\"Best individual: {best_individual}\")\n",
    "print(f\"Best u values: {best_u}\")\n",
    "print(np.sum(best_u))\n",
    "\n",
    "# 可视化适应度变化\n",
    "gen = logbook.select(\"gen\")\n",
    "fit_mins = logbook.select(\"min\")\n",
    "fit_avgs = logbook.select(\"avg\")\n",
    "\n",
    "plt.figure()\n",
    "plt.plot(gen, fit_mins, label=\"Minimum fitness\")\n",
    "plt.plot(gen, fit_avgs, label=\"Average fitness\")\n",
    "plt.xlabel(\"Generation\")\n",
    "plt.ylabel(\"Fitness\")\n",
    "plt.legend()\n",
    "plt.show()"
   ]
  }
 ],
 "metadata": {
  "kernelspec": {
   "display_name": "Python 3 (ipykernel)",
   "language": "python",
   "name": "python3"
  },
  "language_info": {
   "codemirror_mode": {
    "name": "ipython",
    "version": 3
   },
   "file_extension": ".py",
   "mimetype": "text/x-python",
   "name": "python",
   "nbconvert_exporter": "python",
   "pygments_lexer": "ipython3",
   "version": "3.9.18"
  }
 },
 "nbformat": 4,
 "nbformat_minor": 5
}
